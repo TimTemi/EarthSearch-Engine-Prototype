{
 "cells": [
  {
   "cell_type": "code",
   "execution_count": 1,
   "id": "55668fd0",
   "metadata": {},
   "outputs": [],
   "source": [
    "import requests\n",
    "import re\n",
    "import matplotlib.pyplot as plt"
   ]
  },
  {
   "cell_type": "markdown",
   "id": "bb3ba59a",
   "metadata": {},
   "source": [
    "## Getting the data "
   ]
  },
  {
   "cell_type": "code",
   "execution_count": 2,
   "id": "451c092e",
   "metadata": {},
   "outputs": [],
   "source": [
    "def get_content(param_1):\n",
    "    \"\"\"\n",
    "    This is a python function used to get an article from \n",
    "    Wikipedia API, and gives a json response\n",
    "    \"\"\"\n",
    "    params = {\n",
    "        \"action\": \"query\",\n",
    "        \"format\": \"json\",\n",
    "        \"prop\": \"extracts\",\n",
    "        \"explaintext\": True,\n",
    "        \"titles\": param_1\n",
    "    }\n",
    "\n",
    "    response = requests.get(\"https://en.wikipedia.org/w/api.php\", params=params)\n",
    "    return response.json()"
   ]
  },
  {
   "cell_type": "markdown",
   "id": "c152a95a",
   "metadata": {},
   "source": [
    "## Cleaning\n",
    "In this section, the retrieved data is cleaned into the prescribed format"
   ]
  },
  {
   "cell_type": "code",
   "execution_count": 21,
   "id": "61209e19",
   "metadata": {},
   "outputs": [],
   "source": [
    "def merge_contents(data):\n",
    "    \n",
    "    #these are relevant headings\n",
    "    rel_headings = data['query']['pages']['22834']\n",
    "    \n",
    "    #extract the main content and split based on line return\n",
    "    content = rel_headings[\"extract\"].split(\"\\n\")\n",
    "    \n",
    "    #remove all writing after the main article\n",
    "    ind = content.index(\"== See also ==\")\n",
    "    content = content[:ind]\n",
    "    \n",
    "    #strip trailing spaces from text to make them well formatted\n",
    "    content = [x.strip() for x in content]\n",
    "    \n",
    "    #remove items that are repeating\n",
    "    content = list(set(content))\n",
    "    \n",
    "    # other things to remove\n",
    "    thrash = ['','3', '{\\\\displaystyle {\\\\ce {O + O2 <-> O3}}}', '⟶','2','ν','⟷','O',\n",
    "          '{\\\\displaystyle {\\\\ce {O2{}+{\\\\mathit {h}}\\\\nu _{uv}->2O}}}','+','h' ]\n",
    "    content = [x for x in content if x not in thrash]\n",
    "    \n",
    "    #remove the headings\n",
    "    content = [x for x in content if not x.startswith(\"==\")]\n",
    "    \n",
    "    #remove comas (,) full stop(.) and brackets\n",
    "    content = [x.replace(\",\", \"\")\n",
    "               .replace(\".\", \"\")\n",
    "               .replace(\"(\", \"\")\n",
    "               .replace(\")\", \"\")\n",
    "               .strip()\n",
    "              for x in content]\n",
    "    \n",
    "    return \",\".join(content)"
   ]
  },
  {
   "cell_type": "code",
   "execution_count": 22,
   "id": "12feeeb8",
   "metadata": {},
   "outputs": [],
   "source": [
    "merge_content = merge_contents(data)\n",
    "#merge_content"
   ]
  },
  {
   "cell_type": "markdown",
   "id": "423662ec",
   "metadata": {},
   "source": [
    "## Tokenization"
   ]
  },
  {
   "cell_type": "code",
   "execution_count": 23,
   "id": "ec8fa41f",
   "metadata": {},
   "outputs": [],
   "source": [
    "def tokenize(content):\n",
    "    bow = [word.replace(\".\", \"\")\n",
    "               .replace(\",\", \"\")\n",
    "               .replace(\"\\\\\", \"\")\n",
    "           for word in content.split(\" \")\n",
    "          ] \n",
    "    \n",
    "    return bow\n",
    "\n",
    "def lower_collection(collection):\n",
    "    return [x.lower() for x in collection]\n"
   ]
  },
  {
   "cell_type": "code",
   "execution_count": 24,
   "id": "ab91f104",
   "metadata": {},
   "outputs": [],
   "source": [
    "#testing the function to see if it performs as expected\n",
    "data = get_content(\"Ozone_layer\")\n",
    "merge_content = merge_contents(data)\n",
    "collection = tokenize(merge_content)\n",
    "lower = lower_collection(collection)\n"
   ]
  },
  {
   "cell_type": "markdown",
   "id": "a74b1417",
   "metadata": {},
   "source": [
    "## Term Frequency"
   ]
  },
  {
   "cell_type": "code",
   "execution_count": 25,
   "id": "5deccafa",
   "metadata": {},
   "outputs": [],
   "source": [
    "def count_frequency(collection):\n",
    "    tf = {}\n",
    "    for item in collection:\n",
    "        tf[item] = collection.count(item)\n",
    "    return tf"
   ]
  },
  {
   "cell_type": "markdown",
   "id": "cf616bc4",
   "metadata": {},
   "source": [
    "## Visualization"
   ]
  },
  {
   "cell_type": "code",
   "execution_count": 26,
   "id": "81753d03",
   "metadata": {
    "scrolled": true
   },
   "outputs": [],
   "source": [
    "def print_most_frequent(frequencies, n):\n",
    "    vals = sorted(frequencies.items(), key=lambda x:x[1], reverse=True)[:n]\n",
    "    word = []\n",
    "    freq = []\n",
    "    for val in vals:\n",
    "        print(val[0],val[1] )\n",
    "        word.append(val[0])\n",
    "        freq.append(val[1])\n",
    "        \n",
    "    return word, freq"
   ]
  },
  {
   "cell_type": "code",
   "execution_count": 27,
   "id": "402bef6e",
   "metadata": {},
   "outputs": [
    {
     "name": "stdout",
     "output_type": "stream",
     "text": [
      "the 181\n",
      "of 89\n",
      "ozone 74\n",
      "and 71\n",
      "in 62\n",
      "to 60\n",
      "is 39\n",
      "a 31\n",
      "by 25\n",
      "layer 22\n",
      "that 20\n",
      "are 17\n",
      "radiation 16\n",
      "be 15\n",
      "was 15\n",
      "from 13\n",
      "for 12\n",
      "at 12\n",
      "ultraviolet 12\n",
      "nm 12\n"
     ]
    }
   ],
   "source": [
    "freq = count_frequency(lower)\n",
    "twenty = print_most_frequent(freq, 20)"
   ]
  },
  {
   "cell_type": "code",
   "execution_count": 28,
   "id": "a3b21d01",
   "metadata": {},
   "outputs": [
    {
     "data": {
      "image/png": "[encoded data removed]",
      "text/plain": [
       "<Figure size 432x504 with 1 Axes>"
      ]
     },
     "metadata": {
      "needs_background": "light"
     },
     "output_type": "display_data"
    }
   ],
   "source": [
    "#Plot twenty most common words\n",
    "plt.figure().set_figheight(7)\n",
    "plt.barh( twenty[0][::-1], twenty[1][::-1], )\n",
    "plt.title(\"Most Common Tokens in the Ozon layer Article\")\n",
    "plt.show()"
   ]
  },
  {
   "cell_type": "markdown",
   "id": "147f326a",
   "metadata": {},
   "source": [
    "## Filtering"
   ]
  },
  {
   "cell_type": "code",
   "execution_count": 29,
   "id": "d7076261",
   "metadata": {},
   "outputs": [],
   "source": [
    "def remove_stop_words(words, stop_words):\n",
    "    return [x for x in words if not(x in stop_words)]"
   ]
  },
  {
   "cell_type": "code",
   "execution_count": 30,
   "id": "5c9f90e8",
   "metadata": {},
   "outputs": [
    {
     "name": "stdout",
     "output_type": "stream",
     "text": [
      "ozone 74\n",
      "layer 22\n",
      "radiation 16\n",
      "ultraviolet 12\n",
      "nm 12\n",
      "as 11\n",
      "stratosphere 11\n",
      "with 10\n",
      "atmosphere 10\n",
      "uv 8\n",
      "depletion 8\n",
      "surface 8\n",
      "into 7\n",
      "cfcs 7\n",
      "earth's 7\n",
      "over 6\n",
      "air 6\n",
      "out 6\n",
      "oxygen 6\n",
      "latitudes 6\n"
     ]
    },
    {
     "data": {
      "image/png": "[encoded data removed]",
      "text/plain": [
       "<Figure size 432x504 with 1 Axes>"
      ]
     },
     "metadata": {
      "needs_background": "light"
     },
     "output_type": "display_data"
    }
   ],
   "source": [
    "stop_words = [\"at\", \"the\", \"of\", \"our\", \"from\", \"be\", \"that\", \"are\", \"by\", \"is\", \"a\", \"to\", \"in\", \"it\",\"with\"\n",
    "            \"as\", \"on\", \"about\", \"can\", \"for\", \"because\", \"and\", \"was\", \"these\", \"this\", \"which\", \"has\", \"have\", \"an\"]\n",
    "filtered = remove_stop_words(lower, stop_words)\n",
    "freq = count_frequency(filtered)\n",
    "twenty = print_most_frequent(freq, 20)\n",
    "#Plot twenty most common words\n",
    "plt.figure().set_figheight(7)\n",
    "plt.barh( twenty[0][::-1], twenty[1][::-1], )\n",
    "plt.title(\"Most Common Tokens in the Ozon layer Article after filter\")\n",
    "plt.show()"
   ]
  },
  {
   "cell_type": "code",
   "execution_count": null,
   "id": "4264d0a5",
   "metadata": {},
   "outputs": [],
   "source": []
  }
 ],
 "metadata": {
  "kernelspec": {
   "display_name": "Python 3",
   "language": "python",
   "name": "python3"
  },
  "language_info": {
   "codemirror_mode": {
    "name": "ipython",
    "version": 3
   },
   "file_extension": ".py",
   "mimetype": "text/x-python",
   "name": "python",
   "nbconvert_exporter": "python",
   "pygments_lexer": "ipython3",
   "version": "3.6.7"
  }
 },
 "nbformat": 4,
 "nbformat_minor": 5
}
